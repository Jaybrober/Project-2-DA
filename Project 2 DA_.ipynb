{
 "cells": [
  {
   "cell_type": "code",
   "execution_count": 151,
   "id": "23eeca93",
   "metadata": {},
   "outputs": [],
   "source": [
    "import pandas as pd\n",
    "import numpy as np\n",
    "from sklearn import svm, datasets\n",
    "import matplotlib.pyplot as plt\n",
    "from numpy.linalg import norm\n",
    "import seaborn as sns\n",
    "from sklearn.feature_selection import SelectKBest, f_classif, chi2\n",
    "from sklearn.preprocessing import MinMaxScaler\n",
    "from sklearn.model_selection import StratifiedKFold\n",
    "from sklearn.model_selection import cross_val_score\n",
    "from sklearn.model_selection import train_test_split"
   ]
  },
  {
   "cell_type": "markdown",
   "id": "61e7764b",
   "metadata": {},
   "source": [
    "1. Problem statement. Describe the dataset, analyze the target variable, and state your prediction goal."
   ]
  },
  {
   "cell_type": "markdown",
   "id": "0d9330bf",
   "metadata": {},
   "source": [
    "In this dataset, it shows how to find the bmi of a person based off of their gender, height, and weight. The target variable is 'Index' which identifies how weak or overweight a person is. The goal of this dataset is to figure out how to classify a male and female based off of their height and weight and to see if gender affects the outcome."
   ]
  },
  {
   "cell_type": "markdown",
   "id": "464ac1b1",
   "metadata": {},
   "source": [
    "Index :\n",
    "0 - Extremely Weak,\n",
    "1 - Weak,\n",
    "2 - Normal,\n",
    "3 - Overweight,\n",
    "4 - Obesity,\n",
    "5 - Extreme Obesity"
   ]
  },
  {
   "cell_type": "code",
   "execution_count": 152,
   "id": "3a09dfc6",
   "metadata": {
    "scrolled": false
   },
   "outputs": [
    {
     "data": {
      "text/html": [
       "<div>\n",
       "<style scoped>\n",
       "    .dataframe tbody tr th:only-of-type {\n",
       "        vertical-align: middle;\n",
       "    }\n",
       "\n",
       "    .dataframe tbody tr th {\n",
       "        vertical-align: top;\n",
       "    }\n",
       "\n",
       "    .dataframe thead th {\n",
       "        text-align: right;\n",
       "    }\n",
       "</style>\n",
       "<table border=\"1\" class=\"dataframe\">\n",
       "  <thead>\n",
       "    <tr style=\"text-align: right;\">\n",
       "      <th></th>\n",
       "      <th>Gender</th>\n",
       "      <th>Height</th>\n",
       "      <th>Weight</th>\n",
       "      <th>Index</th>\n",
       "    </tr>\n",
       "  </thead>\n",
       "  <tbody>\n",
       "    <tr>\n",
       "      <th>0</th>\n",
       "      <td>Male</td>\n",
       "      <td>174</td>\n",
       "      <td>96</td>\n",
       "      <td>4</td>\n",
       "    </tr>\n",
       "    <tr>\n",
       "      <th>1</th>\n",
       "      <td>Male</td>\n",
       "      <td>189</td>\n",
       "      <td>87</td>\n",
       "      <td>2</td>\n",
       "    </tr>\n",
       "    <tr>\n",
       "      <th>2</th>\n",
       "      <td>Female</td>\n",
       "      <td>185</td>\n",
       "      <td>110</td>\n",
       "      <td>4</td>\n",
       "    </tr>\n",
       "    <tr>\n",
       "      <th>3</th>\n",
       "      <td>Female</td>\n",
       "      <td>195</td>\n",
       "      <td>104</td>\n",
       "      <td>3</td>\n",
       "    </tr>\n",
       "    <tr>\n",
       "      <th>4</th>\n",
       "      <td>Male</td>\n",
       "      <td>149</td>\n",
       "      <td>61</td>\n",
       "      <td>3</td>\n",
       "    </tr>\n",
       "    <tr>\n",
       "      <th>...</th>\n",
       "      <td>...</td>\n",
       "      <td>...</td>\n",
       "      <td>...</td>\n",
       "      <td>...</td>\n",
       "    </tr>\n",
       "    <tr>\n",
       "      <th>495</th>\n",
       "      <td>Female</td>\n",
       "      <td>150</td>\n",
       "      <td>153</td>\n",
       "      <td>5</td>\n",
       "    </tr>\n",
       "    <tr>\n",
       "      <th>496</th>\n",
       "      <td>Female</td>\n",
       "      <td>184</td>\n",
       "      <td>121</td>\n",
       "      <td>4</td>\n",
       "    </tr>\n",
       "    <tr>\n",
       "      <th>497</th>\n",
       "      <td>Female</td>\n",
       "      <td>141</td>\n",
       "      <td>136</td>\n",
       "      <td>5</td>\n",
       "    </tr>\n",
       "    <tr>\n",
       "      <th>498</th>\n",
       "      <td>Male</td>\n",
       "      <td>150</td>\n",
       "      <td>95</td>\n",
       "      <td>5</td>\n",
       "    </tr>\n",
       "    <tr>\n",
       "      <th>499</th>\n",
       "      <td>Male</td>\n",
       "      <td>173</td>\n",
       "      <td>131</td>\n",
       "      <td>5</td>\n",
       "    </tr>\n",
       "  </tbody>\n",
       "</table>\n",
       "<p>500 rows × 4 columns</p>\n",
       "</div>"
      ],
      "text/plain": [
       "     Gender  Height  Weight  Index\n",
       "0      Male     174      96      4\n",
       "1      Male     189      87      2\n",
       "2    Female     185     110      4\n",
       "3    Female     195     104      3\n",
       "4      Male     149      61      3\n",
       "..      ...     ...     ...    ...\n",
       "495  Female     150     153      5\n",
       "496  Female     184     121      4\n",
       "497  Female     141     136      5\n",
       "498    Male     150      95      5\n",
       "499    Male     173     131      5\n",
       "\n",
       "[500 rows x 4 columns]"
      ]
     },
     "execution_count": 152,
     "metadata": {},
     "output_type": "execute_result"
    }
   ],
   "source": [
    "df = pd.read_csv('bmi.csv')\n",
    "df"
   ]
  },
  {
   "cell_type": "code",
   "execution_count": 153,
   "id": "7208699d",
   "metadata": {},
   "outputs": [
    {
     "data": {
      "text/plain": [
       "5    198\n",
       "4    130\n",
       "2     69\n",
       "3     68\n",
       "1     22\n",
       "0     13\n",
       "Name: Index, dtype: int64"
      ]
     },
     "execution_count": 153,
     "metadata": {},
     "output_type": "execute_result"
    }
   ],
   "source": [
    "df['Index'].value_counts()"
   ]
  },
  {
   "cell_type": "markdown",
   "id": "d6d750cb",
   "metadata": {},
   "source": [
    "2. Basic data cleaning.  Drop unwanted features.  Address missing values.  Remove Duplicates. Check if there are any inconsistent inputs for categorical variables. Transform categorical variables into numeric. Use boxplots or histogram to identify outliers for numeric variables and remove them."
   ]
  },
  {
   "cell_type": "code",
   "execution_count": 154,
   "id": "f1d66dd2",
   "metadata": {},
   "outputs": [
    {
     "data": {
      "text/plain": [
       "Gender    0\n",
       "Height    0\n",
       "Weight    0\n",
       "Index     0\n",
       "dtype: int64"
      ]
     },
     "execution_count": 154,
     "metadata": {},
     "output_type": "execute_result"
    }
   ],
   "source": [
    "df.isna().sum()"
   ]
  },
  {
   "cell_type": "code",
   "execution_count": 155,
   "id": "e0dab28d",
   "metadata": {},
   "outputs": [
    {
     "data": {
      "text/html": [
       "<div>\n",
       "<style scoped>\n",
       "    .dataframe tbody tr th:only-of-type {\n",
       "        vertical-align: middle;\n",
       "    }\n",
       "\n",
       "    .dataframe tbody tr th {\n",
       "        vertical-align: top;\n",
       "    }\n",
       "\n",
       "    .dataframe thead th {\n",
       "        text-align: right;\n",
       "    }\n",
       "</style>\n",
       "<table border=\"1\" class=\"dataframe\">\n",
       "  <thead>\n",
       "    <tr style=\"text-align: right;\">\n",
       "      <th></th>\n",
       "      <th>Gender</th>\n",
       "      <th>Height</th>\n",
       "      <th>Weight</th>\n",
       "      <th>Index</th>\n",
       "    </tr>\n",
       "  </thead>\n",
       "  <tbody>\n",
       "    <tr>\n",
       "      <th>0</th>\n",
       "      <td>0</td>\n",
       "      <td>174</td>\n",
       "      <td>96</td>\n",
       "      <td>4</td>\n",
       "    </tr>\n",
       "    <tr>\n",
       "      <th>1</th>\n",
       "      <td>0</td>\n",
       "      <td>189</td>\n",
       "      <td>87</td>\n",
       "      <td>2</td>\n",
       "    </tr>\n",
       "    <tr>\n",
       "      <th>2</th>\n",
       "      <td>1</td>\n",
       "      <td>185</td>\n",
       "      <td>110</td>\n",
       "      <td>4</td>\n",
       "    </tr>\n",
       "    <tr>\n",
       "      <th>3</th>\n",
       "      <td>1</td>\n",
       "      <td>195</td>\n",
       "      <td>104</td>\n",
       "      <td>3</td>\n",
       "    </tr>\n",
       "    <tr>\n",
       "      <th>4</th>\n",
       "      <td>0</td>\n",
       "      <td>149</td>\n",
       "      <td>61</td>\n",
       "      <td>3</td>\n",
       "    </tr>\n",
       "    <tr>\n",
       "      <th>...</th>\n",
       "      <td>...</td>\n",
       "      <td>...</td>\n",
       "      <td>...</td>\n",
       "      <td>...</td>\n",
       "    </tr>\n",
       "    <tr>\n",
       "      <th>495</th>\n",
       "      <td>1</td>\n",
       "      <td>150</td>\n",
       "      <td>153</td>\n",
       "      <td>5</td>\n",
       "    </tr>\n",
       "    <tr>\n",
       "      <th>496</th>\n",
       "      <td>1</td>\n",
       "      <td>184</td>\n",
       "      <td>121</td>\n",
       "      <td>4</td>\n",
       "    </tr>\n",
       "    <tr>\n",
       "      <th>497</th>\n",
       "      <td>1</td>\n",
       "      <td>141</td>\n",
       "      <td>136</td>\n",
       "      <td>5</td>\n",
       "    </tr>\n",
       "    <tr>\n",
       "      <th>498</th>\n",
       "      <td>0</td>\n",
       "      <td>150</td>\n",
       "      <td>95</td>\n",
       "      <td>5</td>\n",
       "    </tr>\n",
       "    <tr>\n",
       "      <th>499</th>\n",
       "      <td>0</td>\n",
       "      <td>173</td>\n",
       "      <td>131</td>\n",
       "      <td>5</td>\n",
       "    </tr>\n",
       "  </tbody>\n",
       "</table>\n",
       "<p>500 rows × 4 columns</p>\n",
       "</div>"
      ],
      "text/plain": [
       "     Gender  Height  Weight  Index\n",
       "0         0     174      96      4\n",
       "1         0     189      87      2\n",
       "2         1     185     110      4\n",
       "3         1     195     104      3\n",
       "4         0     149      61      3\n",
       "..      ...     ...     ...    ...\n",
       "495       1     150     153      5\n",
       "496       1     184     121      4\n",
       "497       1     141     136      5\n",
       "498       0     150      95      5\n",
       "499       0     173     131      5\n",
       "\n",
       "[500 rows x 4 columns]"
      ]
     },
     "execution_count": 155,
     "metadata": {},
     "output_type": "execute_result"
    }
   ],
   "source": [
    "dff = df.replace(['Male', 'Female'], [0,1])\n",
    "dff"
   ]
  },
  {
   "cell_type": "code",
   "execution_count": 156,
   "id": "532227b5",
   "metadata": {
    "scrolled": false
   },
   "outputs": [
    {
     "data": {
      "image/png": "[encoded data removed]",
      "text/plain": [
       "<Figure size 1800x1080 with 2 Axes>"
      ]
     },
     "metadata": {
      "needs_background": "light"
     },
     "output_type": "display_data"
    }
   ],
   "source": [
    "num_list=['Height', 'Weight']\n",
    "fig=plt.figure(figsize=(25, 15))\n",
    "\n",
    "for i in range(len(num_list)):\n",
    "    column=num_list[i]\n",
    "    sub=fig.add_subplot(2,2,i+1)\n",
    "    sns.boxplot(x='Index',y=column, data=dff)"
   ]
  },
  {
   "cell_type": "markdown",
   "id": "591c8dd5",
   "metadata": {},
   "source": [
    "3. Feature Engineering.\n",
    "Feature selection. Use graphs, ANOVA test, Chi-squared test to reduce the dimension. Any variables with zero to little variance?  Any features Irrelevant to the target variable? Any high-correlated Features?  \n"
   ]
  },
  {
   "cell_type": "markdown",
   "id": "81cb9c9d",
   "metadata": {},
   "source": [
    "Any variables with zero to little variance?\n",
    "Height shows signs of having a much lower variance than weight. Height is more closer together, where as, weight is spread further apart."
   ]
  },
  {
   "cell_type": "markdown",
   "id": "3c0553f9",
   "metadata": {},
   "source": [
    "Any features Irrelevant to the target variable? There are no features that are irrelevant to the target variable. They both show different values."
   ]
  },
  {
   "cell_type": "markdown",
   "id": "5319bec4",
   "metadata": {},
   "source": [
    "Any high-correlated Features?\n",
    "No feature has a high correlation"
   ]
  },
  {
   "cell_type": "code",
   "execution_count": 157,
   "id": "b673df60",
   "metadata": {},
   "outputs": [
    {
     "name": "stdout",
     "output_type": "stream",
     "text": [
      "[ 29.23285766 197.21774469]\n",
      "[0. 0.]\n"
     ]
    }
   ],
   "source": [
    "#Anova Test\n",
    "x = dff.loc[:, ['Height', 'Weight']]\n",
    "y = dff.loc[:, 'Index']\n",
    "\n",
    "fs = SelectKBest(score_func=f_classif, k='all')  \n",
    "bestFeatures = fs.fit(x, y)   \n",
    "np.set_printoptions(suppress = True)\n",
    "print(bestFeatures.scores_)   \n",
    "print(bestFeatures.pvalues_)"
   ]
  },
  {
   "cell_type": "code",
   "execution_count": null,
   "id": "6f1c51b3",
   "metadata": {},
   "outputs": [],
   "source": []
  },
  {
   "cell_type": "code",
   "execution_count": 158,
   "id": "c3e7b49c",
   "metadata": {},
   "outputs": [
    {
     "name": "stdout",
     "output_type": "stream",
     "text": [
      "[3.58115123]\n",
      "[0.61114556]\n"
     ]
    }
   ],
   "source": [
    "#Chi-squared Test for Categorical\n",
    "x1 = dff.loc[:, ['Gender']]\n",
    "y1 = dff.loc[:, 'Index']\n",
    "\n",
    "chi = SelectKBest(score_func=chi2, k='all')\n",
    "catFeatures = chi.fit(x1, y1)\n",
    "print(catFeatures.scores_)\n",
    "print(catFeatures.pvalues_)"
   ]
  },
  {
   "cell_type": "code",
   "execution_count": 159,
   "id": "d8e90a18",
   "metadata": {},
   "outputs": [
    {
     "data": {
      "image/png": "[encoded data removed]",
      "text/plain": [
       "<Figure size 1152x576 with 1 Axes>"
      ]
     },
     "metadata": {
      "needs_background": "light"
     },
     "output_type": "display_data"
    }
   ],
   "source": [
    "cat_list=['Gender']\n",
    "\n",
    "fig=plt.figure(figsize=(16,8))\n",
    "for i in range(len(cat_list)):\n",
    "    column=cat_list[i]\n",
    "    sub=fig.add_subplot(2,2,i+1)\n",
    "    chart=sns.countplot(x=column, hue='Index', data=dff)"
   ]
  },
  {
   "cell_type": "code",
   "execution_count": 160,
   "id": "79d61557",
   "metadata": {
    "scrolled": false
   },
   "outputs": [
    {
     "data": {
      "text/html": [
       "<div>\n",
       "<style scoped>\n",
       "    .dataframe tbody tr th:only-of-type {\n",
       "        vertical-align: middle;\n",
       "    }\n",
       "\n",
       "    .dataframe tbody tr th {\n",
       "        vertical-align: top;\n",
       "    }\n",
       "\n",
       "    .dataframe thead th {\n",
       "        text-align: right;\n",
       "    }\n",
       "</style>\n",
       "<table border=\"1\" class=\"dataframe\">\n",
       "  <thead>\n",
       "    <tr style=\"text-align: right;\">\n",
       "      <th></th>\n",
       "      <th>Gender</th>\n",
       "      <th>Height</th>\n",
       "      <th>Weight</th>\n",
       "      <th>Index</th>\n",
       "    </tr>\n",
       "  </thead>\n",
       "  <tbody>\n",
       "    <tr>\n",
       "      <th>Gender</th>\n",
       "      <td>1.000000</td>\n",
       "      <td>0.017677</td>\n",
       "      <td>-0.009523</td>\n",
       "      <td>-0.028786</td>\n",
       "    </tr>\n",
       "    <tr>\n",
       "      <th>Height</th>\n",
       "      <td>0.017677</td>\n",
       "      <td>1.000000</td>\n",
       "      <td>0.000446</td>\n",
       "      <td>-0.422223</td>\n",
       "    </tr>\n",
       "    <tr>\n",
       "      <th>Weight</th>\n",
       "      <td>-0.009523</td>\n",
       "      <td>0.000446</td>\n",
       "      <td>1.000000</td>\n",
       "      <td>0.804569</td>\n",
       "    </tr>\n",
       "    <tr>\n",
       "      <th>Index</th>\n",
       "      <td>-0.028786</td>\n",
       "      <td>-0.422223</td>\n",
       "      <td>0.804569</td>\n",
       "      <td>1.000000</td>\n",
       "    </tr>\n",
       "  </tbody>\n",
       "</table>\n",
       "</div>"
      ],
      "text/plain": [
       "          Gender    Height    Weight     Index\n",
       "Gender  1.000000  0.017677 -0.009523 -0.028786\n",
       "Height  0.017677  1.000000  0.000446 -0.422223\n",
       "Weight -0.009523  0.000446  1.000000  0.804569\n",
       "Index  -0.028786 -0.422223  0.804569  1.000000"
      ]
     },
     "execution_count": 160,
     "metadata": {},
     "output_type": "execute_result"
    }
   ],
   "source": [
    "#Coefficient\n",
    "dff.corr()"
   ]
  },
  {
   "cell_type": "markdown",
   "id": "59262326",
   "metadata": {},
   "source": [
    "Feature scaling. Does this algorithm require normalized data or standardized data? It requires Normalized Data\n"
   ]
  },
  {
   "cell_type": "code",
   "execution_count": 161,
   "id": "90aa45df",
   "metadata": {},
   "outputs": [],
   "source": [
    "x_final = df.loc[:, ['Height', 'Weight']]\n",
    "from sklearn.preprocessing import MinMaxScaler\n",
    "nor_x= MinMaxScaler()    \n",
    "x_scaled= nor_x.fit_transform(x_final)    "
   ]
  },
  {
   "cell_type": "code",
   "execution_count": 162,
   "id": "d1fbf62b",
   "metadata": {},
   "outputs": [
    {
     "name": "stdout",
     "output_type": "stream",
     "text": [
      "(500, 2)\n",
      "(1188, 2)\n"
     ]
    }
   ],
   "source": [
    "from imblearn.over_sampling import SMOTE\n",
    "os = SMOTE(random_state=0)  \n",
    "oversampled_x,oversampled_y=os.fit_sample(x_scaled, y)\n",
    "\n",
    "print(x_scaled.shape)\n",
    "print(oversampled_x.shape)"
   ]
  },
  {
   "cell_type": "markdown",
   "id": "84a86a4e",
   "metadata": {},
   "source": [
    "Are there any categorical variables need to be changed to dummy variables? No.\n"
   ]
  },
  {
   "cell_type": "markdown",
   "id": "0b46c288",
   "metadata": {},
   "source": [
    "4. Build the prediction model.\n"
   ]
  },
  {
   "cell_type": "markdown",
   "id": "7f9018c3",
   "metadata": {},
   "source": [
    "Does this data need to be balanced?\n",
    "Yes, it is very imbalanced. There are two different metrics being used, Centimeters and Pounds."
   ]
  },
  {
   "cell_type": "markdown",
   "id": "ad1d258f",
   "metadata": {},
   "source": [
    "Do you use train_test_split or cross validation to validate the result? For this dataset, cross validation will be used"
   ]
  },
  {
   "cell_type": "code",
   "execution_count": 163,
   "id": "b2e2eacd",
   "metadata": {},
   "outputs": [
    {
     "name": "stdout",
     "output_type": "stream",
     "text": [
      "[1, 2, 3, 4, 6, 7, 8, 9, 11, 12, 13, 14, 16, 17, 18, 19, 21, 22, 23, 24, 26, 27, 28, 29]\n"
     ]
    }
   ],
   "source": [
    "k_values = [] \n",
    "for i in range(1, 30):\n",
    "    if i%5 !=0:   \n",
    "        k_values.append(i)\n",
    "print(k_values)"
   ]
  },
  {
   "cell_type": "code",
   "execution_count": 164,
   "id": "ae8f8b89",
   "metadata": {},
   "outputs": [
    {
     "name": "stdout",
     "output_type": "stream",
     "text": [
      "       k  accuracy\n",
      "0    1.0     0.890\n",
      "1    2.0     0.864\n",
      "2    3.0     0.892\n",
      "3    4.0     0.898\n",
      "4    6.0     0.884\n",
      "5    7.0     0.888\n",
      "6    8.0     0.876\n",
      "7    9.0     0.878\n",
      "8   11.0     0.876\n",
      "9   12.0     0.878\n",
      "10  13.0     0.878\n",
      "11  14.0     0.878\n",
      "12  16.0     0.868\n",
      "13  17.0     0.866\n",
      "14  18.0     0.858\n",
      "15  19.0     0.862\n",
      "16  21.0     0.858\n",
      "17  22.0     0.858\n",
      "18  23.0     0.850\n",
      "19  24.0     0.840\n",
      "20  26.0     0.824\n",
      "21  27.0     0.828\n",
      "22  28.0     0.818\n",
      "23  29.0     0.816\n"
     ]
    }
   ],
   "source": [
    "k_accuracy_scores = [] \n",
    "\n",
    "for k in k_values:   \n",
    "    knn = KNeighborsClassifier(n_neighbors=k)\n",
    "    cv_scores=cross_val_score(knn, x_scaled, y, cv=10, scoring='accuracy')\n",
    "    k_accuracy_scores.append(cv_scores.mean()) \n",
    "\n",
    "df_k_scores = pd.DataFrame(data = np.c_[k_values, k_accuracy_scores], columns = ['k', 'accuracy']) \n",
    "\n",
    "print(df_k_scores)"
   ]
  },
  {
   "cell_type": "markdown",
   "id": "b9a1800f",
   "metadata": {},
   "source": [
    "Which algorithm is appropriate for this problem?"
   ]
  },
  {
   "cell_type": "markdown",
   "id": "72a57878",
   "metadata": {},
   "source": [
    "The KNN algorithm is the most appropriate for this since it tests for the nearness of the values. The results show a high accuracy."
   ]
  },
  {
   "cell_type": "code",
   "execution_count": 165,
   "id": "c7f58bb4",
   "metadata": {},
   "outputs": [
    {
     "data": {
      "text/plain": [
       "<sklearn.metrics._plot.confusion_matrix.ConfusionMatrixDisplay at 0x1f381934790>"
      ]
     },
     "execution_count": 165,
     "metadata": {},
     "output_type": "execute_result"
    },
    {
     "data": {
      "image/png": "[encoded data removed]",
      "text/plain": [
       "<Figure size 432x288 with 2 Axes>"
      ]
     },
     "metadata": {
      "needs_background": "light"
     },
     "output_type": "display_data"
    }
   ],
   "source": [
    "from sklearn.metrics import ConfusionMatrixDisplay\n",
    "NN = KNeighborsClassifier(n_neighbors=4)\n",
    "NN.fit(x_scaled, y) \n",
    "ConfusionMatrixDisplay.from_estimator(NN, x_scaled, y)"
   ]
  },
  {
   "cell_type": "markdown",
   "id": "0cd9df68",
   "metadata": {},
   "source": [
    "Which metrics do you use to evaluate the prediction model?"
   ]
  },
  {
   "cell_type": "markdown",
   "id": "7104c11f",
   "metadata": {},
   "source": [
    "The metric I used was precision. It shows how accurate the model is out of the predicted positive and how many of them are actual positive."
   ]
  }
 ],
 "metadata": {
  "kernelspec": {
   "display_name": "Python 3 (ipykernel)",
   "language": "python",
   "name": "python3"
  },
  "language_info": {
   "codemirror_mode": {
    "name": "ipython",
    "version": 3
   },
   "file_extension": ".py",
   "mimetype": "text/x-python",
   "name": "python",
   "nbconvert_exporter": "python",
   "pygments_lexer": "ipython3",
   "version": "3.9.12"
  }
 },
 "nbformat": 4,
 "nbformat_minor": 5
}
